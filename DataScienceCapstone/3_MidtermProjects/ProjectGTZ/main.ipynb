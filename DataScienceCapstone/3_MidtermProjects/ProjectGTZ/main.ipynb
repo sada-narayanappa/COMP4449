{
 "cells": [
  {
   "cell_type": "markdown",
   "metadata": {},
   "source": [
    "# Music Genre Classification\n",
    "The dataset consists of 1000 audio tracks each 30 seconds long. It contains 10 genres, each represented by 100 tracks. The tracks are all 22050Hz monophonic 16-bit audio files in .wav format. Your task is to extract audio features and to create a model able to classify tracks by genre using these features. You may find [this notebook](https://colab.research.google.com/github/emmanueliarussi/DataScienceCapstone/blob/master/3_MidtermProjects/ProjectGTZ/additional/Test_Audio.ipynb.ipynb) useful to open and explore audio tracks. For this project, try to make more emphasis on the feature extraction side than on the classifier model. More info [here](https://www.kaggle.com/carlthome/gtzan-genre-collection). "
   ]
  },
  {
   "cell_type": "code",
   "execution_count": null,
   "metadata": {},
   "outputs": [],
   "source": [
    "# Download and unzip\n",
    "dataroot = \"dataroot/\"\n",
    "!mkdir dataroot \n",
    "!wget -P dataroot http://opihi.cs.uvic.ca/sound/genres.tar.gz"
   ]
  },
  {
   "cell_type": "code",
   "execution_count": null,
   "metadata": {},
   "outputs": [],
   "source": [
    "# Untar\n",
    "import tarfile\n",
    "with tarfile.open(dataroot+\"genres.tar.gz\",\"r:gz\") as tar_ref:\n",
    "    tar_ref.extractall(dataroot)\n",
    "    tar_ref.close()"
   ]
  },
  {
   "cell_type": "code",
   "execution_count": null,
   "metadata": {},
   "outputs": [],
   "source": [
    "# Needed imports for opening sound tracks\n",
    "import numpy as np\n",
    "from IPython.display import Audio\n",
    "from scipy.io import wavfile"
   ]
  },
  {
   "cell_type": "code",
   "execution_count": null,
   "metadata": {},
   "outputs": [],
   "source": [
    "# Load one song\n",
    "blues = wavfile.read('dataroot/genres/blues/blues.00000.wav')"
   ]
  },
  {
   "cell_type": "code",
   "execution_count": null,
   "metadata": {},
   "outputs": [],
   "source": [
    "# Let's play it!\n",
    "framerate = 22050\n",
    "Audio(blues[1],rate=framerate,autoplay=True)"
   ]
  },
  {
   "cell_type": "code",
   "execution_count": null,
   "metadata": {},
   "outputs": [],
   "source": [
    "# Let's see how it looks like\n",
    "# Load the calc module\n",
    "!rm calc.*\n",
    "!wget https://raw.githubusercontent.com/R6500/Python-bits/master/Modules/calc.py\n",
    "\n",
    "#Import the module\n",
    "import calc"
   ]
  },
  {
   "cell_type": "code",
   "execution_count": null,
   "metadata": {},
   "outputs": [],
   "source": [
    "# Now plot it!\n",
    "time      = np.arange(0,len(blues[1]))/framerate\n",
    "calc.plot11(time,blues[1],\"Sound data loaded from wav file\",\"Time (s)\",\"Values\")"
   ]
  }
 ],
 "metadata": {
  "kernelspec": {
   "display_name": "Python 3",
   "language": "python",
   "name": "python3"
  },
  "language_info": {
   "codemirror_mode": {
    "name": "ipython",
    "version": 3
   },
   "file_extension": ".py",
   "mimetype": "text/x-python",
   "name": "python",
   "nbconvert_exporter": "python",
   "pygments_lexer": "ipython3",
   "version": "3.7.4"
  }
 },
 "nbformat": 4,
 "nbformat_minor": 2
}
